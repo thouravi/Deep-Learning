{
  "nbformat": 4,
  "nbformat_minor": 0,
  "metadata": {
    "colab": {
      "name": "numberRecognition.ipynb",
      "provenance": [],
      "collapsed_sections": []
    },
    "kernelspec": {
      "name": "python3",
      "display_name": "Python 3"
    }
  },
  "cells": [
    {
      "cell_type": "code",
      "metadata": {
        "id": "XHq1jlfafT4i",
        "colab_type": "code",
        "colab": {}
      },
      "source": [
        "import tensorflow as tf #import tensorflow\n",
        "mnist = tf.keras.datasets.mnist #28x28 images"
      ],
      "execution_count": 0,
      "outputs": []
    },
    {
      "cell_type": "code",
      "metadata": {
        "id": "2bs_SffKhNDj",
        "colab_type": "code",
        "colab": {
          "base_uri": "https://localhost:8080/",
          "height": 51
        },
        "outputId": "24114982-6db3-4810-b7b6-4266c2596c58"
      },
      "source": [
        "(x_train, y_train), (x_test, y_test) = mnist.load_data() #unpack the data"
      ],
      "execution_count": 5,
      "outputs": [
        {
          "output_type": "stream",
          "text": [
            "Downloading data from https://storage.googleapis.com/tensorflow/tf-keras-datasets/mnist.npz\n",
            "11493376/11490434 [==============================] - 0s 0us/step\n"
          ],
          "name": "stdout"
        }
      ]
    },
    {
      "cell_type": "code",
      "metadata": {
        "id": "zQfoFG3uiT5r",
        "colab_type": "code",
        "colab": {}
      },
      "source": [
        "x_train = tf.keras.utils.normalize(x_train, axis=1) #Normalize x_train\n",
        "x_test = tf.keras.utils.normalize(x_test, axis=1) #Normalize x_test"
      ],
      "execution_count": 0,
      "outputs": []
    },
    {
      "cell_type": "code",
      "metadata": {
        "id": "zwRDNJejhsLu",
        "colab_type": "code",
        "colab": {
          "base_uri": "https://localhost:8080/",
          "height": 282
        },
        "outputId": "2fafd300-d0d4-4902-bd44-8e7314aed42d"
      },
      "source": [
        "import matplotlib.pyplot as plt #import matplotlib\n",
        "plt.imshow(x_train[5], cmap = plt.cm.binary) #image show as binary"
      ],
      "execution_count": 12,
      "outputs": [
        {
          "output_type": "execute_result",
          "data": {
            "text/plain": [
              "<matplotlib.image.AxesImage at 0x7efd29fbf470>"
            ]
          },
          "metadata": {
            "tags": []
          },
          "execution_count": 12
        },
        {
          "output_type": "display_data",
          "data": {
            "image/png": "[encoded data removed]",
            "text/plain": [
              "<Figure size 432x288 with 1 Axes>"
            ]
          },
          "metadata": {
            "tags": []
          }
        }
      ]
    },
    {
      "cell_type": "code",
      "metadata": {
        "id": "fzYUorYIhzmC",
        "colab_type": "code",
        "colab": {}
      },
      "source": [
        "#Making a Model\n",
        "model = tf.keras.models.Sequential() #Using Sequential Model\n",
        "model.add(tf.keras.layers.Flatten()) #Adding Flatten Layer\n",
        "model.add(tf.keras.layers.Dense(128, activation=tf.nn.relu)) #Adding Dense Layer with 128 / relu\n",
        "model.add(tf.keras.layers.Dense(128, activation=tf.nn.relu)) #Adding Dense Layer with 128 / relu\n",
        "model.add(tf.keras.layers.Dense(10, activation=tf.nn.softmax)) #Adding Dense Layer with 128 / softmax"
      ],
      "execution_count": 0,
      "outputs": []
    },
    {
      "cell_type": "code",
      "metadata": {
        "id": "ef0QLHn6ieuZ",
        "colab_type": "code",
        "colab": {}
      },
      "source": [
        "#Model Compile\n",
        "model.compile(optimizer='adam', #using adam optimizer\n",
        "              loss='sparse_categorical_crossentropy', #using loss\n",
        "              metrics=['accuracy']) #showing accuracy as the metrics"
      ],
      "execution_count": 0,
      "outputs": []
    },
    {
      "cell_type": "code",
      "metadata": {
        "id": "RXvURq_0j2hA",
        "colab_type": "code",
        "colab": {
          "base_uri": "https://localhost:8080/",
          "height": 153
        },
        "outputId": "16cef895-c360-4e2c-fa67-6a3b415b60af"
      },
      "source": [
        "model.fit(x_train, y_train, epochs = 3) #Model fit to check the accuracy"
      ],
      "execution_count": 24,
      "outputs": [
        {
          "output_type": "stream",
          "text": [
            "Train on 60000 samples\n",
            "Epoch 1/3\n",
            "60000/60000 [==============================] - 5s 81us/sample - loss: 0.0167 - acc: 0.9942\n",
            "Epoch 2/3\n",
            "60000/60000 [==============================] - 5s 78us/sample - loss: 0.0155 - acc: 0.9948\n",
            "Epoch 3/3\n",
            "60000/60000 [==============================] - 5s 78us/sample - loss: 0.0143 - acc: 0.9952\n"
          ],
          "name": "stdout"
        },
        {
          "output_type": "execute_result",
          "data": {
            "text/plain": [
              "<tensorflow.python.keras.callbacks.History at 0x7efd215bf240>"
            ]
          },
          "metadata": {
            "tags": []
          },
          "execution_count": 24
        }
      ]
    },
    {
      "cell_type": "code",
      "metadata": {
        "id": "EsqMn9kjj6ae",
        "colab_type": "code",
        "colab": {}
      },
      "source": [
        "#It returns 99.52% accuracy on 60000 samples"
      ],
      "execution_count": 0,
      "outputs": []
    },
    {
      "cell_type": "code",
      "metadata": {
        "id": "iDRmvu5nkfSJ",
        "colab_type": "code",
        "colab": {
          "base_uri": "https://localhost:8080/",
          "height": 34
        },
        "outputId": "90fae22a-ba75-4cee-a9dd-22483b4a815e"
      },
      "source": [
        "val_loss, val_acc = model.evaluate(x_test, y_test) #Evaluation Loss and Accuracy"
      ],
      "execution_count": 25,
      "outputs": [
        {
          "output_type": "stream",
          "text": [
            "10000/10000 [==============================] - 0s 39us/sample - loss: 0.1331 - acc: 0.9717\n"
          ],
          "name": "stdout"
        }
      ]
    },
    {
      "cell_type": "code",
      "metadata": {
        "id": "Oho_qo39kt-X",
        "colab_type": "code",
        "colab": {}
      },
      "source": [
        "prediction = model.predict([x_test]) #Predicting "
      ],
      "execution_count": 0,
      "outputs": []
    },
    {
      "cell_type": "code",
      "metadata": {
        "id": "hS71A18ZlZGP",
        "colab_type": "code",
        "colab": {
          "base_uri": "https://localhost:8080/",
          "height": 34
        },
        "outputId": "f2b8398a-8ff9-4666-eeeb-9dea5fe78892"
      },
      "source": [
        "import numpy as np\n",
        "print(np.argmax(prediction[0])) #It says 0 is Number 7"
      ],
      "execution_count": 32,
      "outputs": [
        {
          "output_type": "stream",
          "text": [
            "7\n"
          ],
          "name": "stdout"
        }
      ]
    },
    {
      "cell_type": "code",
      "metadata": {
        "id": "_Dcwwxtzlh2u",
        "colab_type": "code",
        "colab": {
          "base_uri": "https://localhost:8080/",
          "height": 282
        },
        "outputId": "fc61d1fc-5fa8-4c6c-f9a8-9d1e82e679b3"
      },
      "source": [
        "plt.imshow(x_test[0]) #Image show of Index 0 and yes, it is number 7."
      ],
      "execution_count": 33,
      "outputs": [
        {
          "output_type": "execute_result",
          "data": {
            "text/plain": [
              "<matplotlib.image.AxesImage at 0x7efd1e415f60>"
            ]
          },
          "metadata": {
            "tags": []
          },
          "execution_count": 33
        },
        {
          "output_type": "display_data",
          "data": {
            "image/png": "[encoded data removed]",
            "text/plain": [
              "<Figure size 432x288 with 1 Axes>"
            ]
          },
          "metadata": {
            "tags": []
          }
        }
      ]
    },
    {
      "cell_type": "code",
      "metadata": {
        "id": "UvkN18OOlljW",
        "colab_type": "code",
        "colab": {}
      },
      "source": [
        ""
      ],
      "execution_count": 0,
      "outputs": []
    }
  ]
}